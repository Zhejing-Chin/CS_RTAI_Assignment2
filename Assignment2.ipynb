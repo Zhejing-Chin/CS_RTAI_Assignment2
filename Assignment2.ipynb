{
 "cells": [
  {
   "cell_type": "code",
   "execution_count": 3,
   "id": "c8d9e8a8",
   "metadata": {},
   "outputs": [],
   "source": [
    "import pandas as pd\n",
    "import numpy as np\n",
    "\n",
    "import os\n",
    "from PIL import Image\n",
    "import matplotlib.pyplot as plt\n",
    "\n",
    "import tensorflow as tf\n",
    "from tensorflow import keras\n",
    "from keras import layers, models"
   ]
  },
  {
   "cell_type": "code",
   "execution_count": 9,
   "id": "2d3c2d52",
   "metadata": {},
   "outputs": [
    {
     "name": "stdout",
     "output_type": "stream",
     "text": [
      "This is 1 channel, so we omit it (683, 1024) 4b9ef3ce2685ee32.jpg\n",
      "This is 1 channel, so we omit it (914, 1024) 5a71db307230880e.jpg\n"
     ]
    }
   ],
   "source": [
    "# walk the directory containing alpaca/not alpaca and read them in. \n",
    "# might be different shapes\n",
    "# all have 3 channels\n",
    "alpaca_images = []\n",
    "for dirname, _, filenames in os.walk('dataset/alpaca'):\n",
    "    for filename in filenames:\n",
    "        if filename.endswith(\".jpg\"):\n",
    "            pathname = os.path.join(dirname, filename)\n",
    "            im = Image.open(pathname)\n",
    "            imnp = np.array(im, dtype=float)\n",
    "            if len(imnp.shape) != 3: # we'll ignore a few black-and-white (1 channel) images\n",
    "                print(\"This is 1 channel, so we omit it\", imnp.shape, filename)\n",
    "                continue # do not add to our list\n",
    "            alpaca_images.append(imnp)\n",
    "\n",
    "not_alpaca_images = []\n",
    "for dirname, _, filenames in os.walk('dataset/not alpaca'):\n",
    "    for filename in filenames:\n",
    "        if filename.endswith(\".jpg\"):\n",
    "            pathname = os.path.join(dirname, filename)\n",
    "            im = Image.open(pathname)\n",
    "            imnp = np.array(im, dtype=float)\n",
    "            if len(imnp.shape) != 3: # we'll ignore a few black-and-white (1 channel) images\n",
    "                print(\"This is 1 channel, so we omit it\", imnp.shape, filename)\n",
    "                continue # do not add to our list\n",
    "            not_alpaca_images.append(imnp)"
   ]
  },
  {
   "cell_type": "code",
   "execution_count": 10,
   "id": "5356fcc0",
   "metadata": {},
   "outputs": [
    {
     "data": {
      "text/plain": [
       "(680, 1024, 3)"
      ]
     },
     "execution_count": 10,
     "metadata": {},
     "output_type": "execute_result"
    }
   ],
   "source": [
    "not_alpaca_images[0].shape"
   ]
  },
  {
   "cell_type": "code",
   "execution_count": null,
   "id": "0ac68dcb",
   "metadata": {},
   "outputs": [],
   "source": []
  }
 ],
 "metadata": {
  "kernelspec": {
   "display_name": "Python 3 (ipykernel)",
   "language": "python",
   "name": "python3"
  },
  "language_info": {
   "codemirror_mode": {
    "name": "ipython",
    "version": 3
   },
   "file_extension": ".py",
   "mimetype": "text/x-python",
   "name": "python",
   "nbconvert_exporter": "python",
   "pygments_lexer": "ipython3",
   "version": "3.9.16"
  }
 },
 "nbformat": 4,
 "nbformat_minor": 5
}
