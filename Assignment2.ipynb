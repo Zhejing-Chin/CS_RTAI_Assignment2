{
 "cells": [
  {
   "cell_type": "code",
   "execution_count": 3,
   "id": "49da1618",
   "metadata": {},
   "outputs": [],
   "source": [
    "import pandas as pd\n",
    "import numpy as np\n",
    "\n",
    "import os\n",
    "from PIL import Image\n",
    "import matplotlib.pyplot as plt\n",
    "\n",
    "import tensorflow as tf\n",
    "from tensorflow import keras\n",
    "from keras import layers, models"
   ]
  },
  {
   "cell_type": "code",
   "execution_count": 14,
   "id": "5b398132",
   "metadata": {},
   "outputs": [],
   "source": [
    "# not_alpaca_images[0].shape\n",
    "\n",
    "input_size = (300, 300)\n",
    "\n",
    "def preprocess_dataset(image):\n",
    "    image = tf.image.resize(image, (input_size[0], input_size[1]))\n",
    "    return image.numpy()"
   ]
  },
  {
   "cell_type": "code",
   "execution_count": 15,
   "id": "01bb176e",
   "metadata": {},
   "outputs": [
    {
     "name": "stdout",
     "output_type": "stream",
     "text": [
      "This is 1 channel, so we omit it (683, 1024) 4b9ef3ce2685ee32.jpg\n",
      "This is 1 channel, so we omit it (914, 1024) 5a71db307230880e.jpg\n"
     ]
    }
   ],
   "source": [
    "# walk the directory containing alpaca/not alpaca and read them in. \n",
    "# might be different shapes\n",
    "# all have 3 channels\n",
    "alpaca_images = []\n",
    "for dirname, _, filenames in os.walk('dataset/alpaca'):\n",
    "    for filename in filenames:\n",
    "        if filename.endswith(\".jpg\"):\n",
    "            pathname = os.path.join(dirname, filename)\n",
    "            im = Image.open(pathname)\n",
    "            imnp = np.array(im, dtype=float)\n",
    "            if len(imnp.shape) != 3: # we'll ignore a few black-and-white (1 channel) images\n",
    "                print(\"This is 1 channel, so we omit it\", imnp.shape, filename)\n",
    "                continue # do not add to our list\n",
    "            imnp = preprocess_dataset(imnp)\n",
    "            alpaca_images.append(imnp)\n",
    "\n",
    "not_alpaca_images = []\n",
    "for dirname, _, filenames in os.walk('dataset/not alpaca'):\n",
    "    for filename in filenames:\n",
    "        if filename.endswith(\".jpg\"):\n",
    "            pathname = os.path.join(dirname, filename)\n",
    "            im = Image.open(pathname)\n",
    "            imnp = np.array(im, dtype=float)\n",
    "            if len(imnp.shape) != 3: # we'll ignore a few black-and-white (1 channel) images\n",
    "                print(\"This is 1 channel, so we omit it\", imnp.shape, filename)\n",
    "                continue # do not add to our list\n",
    "            imnp = preprocess_dataset(imnp)\n",
    "            not_alpaca_images.append(imnp)"
   ]
  },
  {
   "cell_type": "code",
   "execution_count": 16,
   "id": "bd3b2543",
   "metadata": {},
   "outputs": [
    {
     "data": {
      "text/plain": [
       "(300, 300, 3)"
      ]
     },
     "execution_count": 16,
     "metadata": {},
     "output_type": "execute_result"
    }
   ],
   "source": [
    "alpaca_images[0].shape"
   ]
  },
  {
   "cell_type": "code",
   "execution_count": null,
   "id": "0fb07428",
   "metadata": {},
   "outputs": [],
   "source": [
    "cnn = keras.Sequential(\n",
    "    keras.Input(shape=(input_size[0], input_size[1], 3)),\n",
    "    layers.Conv2D(16, (3, 3), activation='relu'),\n",
    "    layers.AveragePooling2D(),\n",
    ")"
   ]
  }
 ],
 "metadata": {
  "kernelspec": {
   "display_name": "Python 3 (ipykernel)",
   "language": "python",
   "name": "python3"
  },
  "language_info": {
   "codemirror_mode": {
    "name": "ipython",
    "version": 3
   },
   "file_extension": ".py",
   "mimetype": "text/x-python",
   "name": "python",
   "nbconvert_exporter": "python",
   "pygments_lexer": "ipython3",
   "version": "3.9.16"
  }
 },
 "nbformat": 4,
 "nbformat_minor": 5
}
